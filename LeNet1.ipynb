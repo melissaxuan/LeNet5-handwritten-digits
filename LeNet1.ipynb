{
 "cells": [
  {
   "cell_type": "markdown",
   "id": "036718c1",
   "metadata": {},
   "source": [
    "### 1. LeNet5 Model"
   ]
  },
  {
   "cell_type": "code",
   "execution_count": 1,
   "id": "931a1675",
   "metadata": {},
   "outputs": [],
   "source": [
    "import torch\n",
    "import torch.nn as nn\n",
    "import torch.nn.functional as F\n",
    "import os\n",
    "import cv2\n",
    "import numpy as np\n",
    "\n",
    "class ScaledTanh(nn.Module):\n",
    "    def forward(self, x):\n",
    "        return 1.7159 * torch.tanh(x * 2 / 3)\n",
    "    \n",
    "class LeNet5(nn.Module):\n",
    "    def __init__(self, num_classes=10):\n",
    "        super(LeNet5, self).__init__()\n",
    "        self.tanh = ScaledTanh()\n",
    "\n",
    "        # C1\n",
    "        self.conv1 = nn.Conv2d(in_channels=1, out_channels=6, kernel_size=5, stride=1)\n",
    "        \n",
    "        # S2\n",
    "        self.weight2 = nn.Parameter(torch.ones(1, 6, 1, 1))\n",
    "        self.bias2 = nn.Parameter(torch.zeros(1, 6, 1, 1))\n",
    "        fan_in, _ = nn.init._calculate_fan_in_and_fan_out(self.weight2)\n",
    "        nn.init.uniform_(self.weight2, -2.4 / fan_in, 2.4 / fan_in)\n",
    "        self.bias2.data.fill_(2.4 / fan_in)\n",
    "\n",
    "        # C3\n",
    "        self.conv3 = nn.Conv2d(in_channels=6, out_channels=16, kernel_size=5, stride=1)\n",
    "        mask = torch.zeros_like(self.conv3.weight, dtype=torch.bool)\n",
    "        table = self.connection_table()\n",
    "        for out_idx, conn in enumerate(table):\n",
    "            mask[out_idx, conn] = True\n",
    "        self.register_buffer(\"conv3_mask\", mask.float())\n",
    "        with torch.no_grad():\n",
    "            self.conv3.weight *= self.conv3_mask\n",
    "\n",
    "        # S4\n",
    "        self.weight4 = nn.Parameter(torch.ones(1, 16, 1, 1))\n",
    "        self.bias4 = nn.Parameter(torch.zeros(1, 16, 1, 1))\n",
    "        fan_in, _ = nn.init._calculate_fan_in_and_fan_out(self.weight4)\n",
    "        nn.init.uniform_(self.weight4, -2.4 / fan_in, 2.4 / fan_in)\n",
    "        self.bias4.data.fill_(2.4 / fan_in)\n",
    "\n",
    "        # C5\n",
    "        self.conv5 = nn.Conv2d(in_channels=16, out_channels=120, kernel_size=5, stride=1)\n",
    "\n",
    "        # F6\n",
    "        self.fc6 = nn.Linear(120, 84)\n",
    "\n",
    "        # Output Layer\n",
    "        self.prototypes = self.compute_rbf_prototypes()\n",
    "\n",
    "    def connection_table(self):\n",
    "        return [\n",
    "            [0, 1, 2],\n",
    "            [1, 2, 3],\n",
    "            [2, 3, 4],\n",
    "            [3, 4, 5],\n",
    "            [0, 4, 5],\n",
    "            [0, 1, 5],\n",
    "            [0, 1, 2, 3],\n",
    "            [1, 2, 3, 4],\n",
    "            [2, 3, 4, 5],\n",
    "            [0, 3, 4, 5],\n",
    "            [0, 1, 4, 5],\n",
    "            [0, 1, 2, 5],\n",
    "            [0, 1, 3, 4],\n",
    "            [1, 2, 4, 5],\n",
    "            [1, 2, 3, 5],\n",
    "            [0, 1, 2, 3, 4, 5]\n",
    "        ]\n",
    "\n",
    "    def compute_rbf_prototypes(self):\n",
    "        import matplotlib.pyplot as plt\n",
    "\n",
    "        prototypes = []\n",
    "\n",
    "        image_folder = './digits updated/'\n",
    "        bitmap_size = (7,12)\n",
    "        num_classes = 10\n",
    "\n",
    "        for label in range(num_classes):\n",
    "            class_folder = os.path.join(image_folder, str(label))\n",
    "            images = []\n",
    "            for img_name in os.listdir(class_folder):\n",
    "                img_path = os.path.join(class_folder, img_name)\n",
    "                image = cv2.imread(img_path, 0)\n",
    "                if image is not None:\n",
    "                    image = cv2.resize(image, bitmap_size)\n",
    "                    image = 255.0 - image  # Invert colors\n",
    "                    image = (image > 127).astype(np.float32)  # Binarize to 0 and 1\n",
    "                    image = image / 255.0\n",
    "\n",
    "                    images.append(image)\n",
    "            if images:\n",
    "                mean_image = np.mean(images, axis=0)\n",
    "                prototypes.append(mean_image.flatten())\n",
    "\n",
    "        prototypes_arr = np.array(prototypes)\n",
    "\n",
    "        return torch.tensor(prototypes_arr, dtype=torch.float32)\n",
    "\n",
    "    def compute_rbf_distance(self, x):\n",
    "        x = (x - x.mean(dim=1, keepdim=True)) / (x.std(dim=1, keepdim=True) + 1e-5)\n",
    "        prototypes = (self.prototypes - self.prototypes.mean(dim=1, keepdim=True)) / (self.prototypes.std(dim=1, keepdim=True) + 1e-5)\n",
    "\n",
    "        # L2 normalize input features and prototypes\n",
    "        x = F.normalize(x, p=2, dim=1)  # shape: [batch_size, feature_dim]\n",
    "        prototypes = F.normalize(prototypes, p=2, dim=1)  # shape: [num_classes, feature_dim]\n",
    "\n",
    "        # Compute pairwise squared Euclidean distances\n",
    "        x_expanded = x.unsqueeze(1)  # shape: [batch_size, 1, feature_dim]\n",
    "        prototypes_expanded = prototypes.unsqueeze(0)  # shape: [1, num_classes, feature_dim]\n",
    "        output = (x_expanded - prototypes_expanded).pow(2).sum(-1)  # shape: [batch_size, num_classes]\n",
    "\n",
    "        return output   \n",
    "\n",
    "    def forward(self, x):\n",
    "        # C1\n",
    "        x = self.conv1(x)\n",
    "        x = self.tanh(x)\n",
    "\n",
    "        # S2\n",
    "        x = F.avg_pool2d(x, kernel_size=2, stride=2) * self.weight2.view(1, -1, 1, 1) + self.bias2.view(1, -1, 1, 1)\n",
    "        x = self.tanh(x)\n",
    "\n",
    "        # C3\n",
    "        self.conv3.weight.data *= self.conv3_mask  # Apply the mask to the weights\n",
    "        x = self.conv3(x)\n",
    "        x = self.tanh(x)\n",
    "\n",
    "        # S4\n",
    "        x = F.avg_pool2d(x, kernel_size=2, stride=2) * self.weight4.view(1, -1, 1, 1) + self.bias4.view(1, -1, 1, 1)\n",
    "        x = self.tanh(x)\n",
    "\n",
    "        # C5\n",
    "        x = self.conv5(x)\n",
    "        x = self.tanh(x)\n",
    "\n",
    "        # F6\n",
    "        x = x.view(x.size(0), -1)\n",
    "        x = self.fc6(x)\n",
    "\n",
    "        # Output Layer\n",
    "        x = self.compute_rbf_distance(x)\n",
    "        return x"
   ]
  },
  {
   "cell_type": "markdown",
   "id": "62cac26b",
   "metadata": {},
   "source": [
    "### 2. Load Train and Test Data"
   ]
  },
  {
   "cell_type": "code",
   "execution_count": 2,
   "id": "820d833f",
   "metadata": {},
   "outputs": [],
   "source": [
    "from torch.utils.data import TensorDataset, DataLoader\n",
    "from torchvision import transforms\n",
    "from PIL import Image\n",
    "train_image_folder = './data/train/'\n",
    "test_image_folder = './data/test/'\n",
    "train_label_file = './data/train_label.txt'\n",
    "test_label_file = './data/test_label.txt'\n",
    "\n",
    "train_images = []\n",
    "train_labels = []\n",
    "test_images = []\n",
    "test_labels = []\n",
    "\n",
    "transform = transforms.Compose([\n",
    "    transforms.Pad(2, fill=0, padding_mode='constant')\n",
    "    # transforms.Resize((32, 32)),  # Resize images to 32x32\n",
    "    # transforms.PILToTensor(),\n",
    "    # transforms.ConvertImageDtype(torch.float)\n",
    "])\n",
    "\n",
    "with open(train_label_file, 'r') as f:\n",
    "    label_lines = f.readlines()\n",
    "    image_filenames = sorted(os.listdir(train_image_folder))\n",
    "\n",
    "    for idx in range(len(label_lines)):\n",
    "        img_name = f\"{idx}.png\"\n",
    "        img_path = os.path.join(train_image_folder, img_name)\n",
    "        img = cv2.imread(img_path, 0)\n",
    "        if img is not None:\n",
    "            image = Image.fromarray(img)\n",
    "            image = transform(image)\n",
    "            train_images.append(image)\n",
    "            label = int(label_lines[idx].strip())\n",
    "            train_labels.append(label)\n",
    "\n",
    "with open(test_label_file, 'r') as f:\n",
    "    label_lines = f.readlines()\n",
    "    image_filenames = sorted(os.listdir(train_image_folder))\n",
    "\n",
    "    for idx in range(len(label_lines)):\n",
    "        img_name = f\"{idx}.png\"\n",
    "        img_path = os.path.join(test_image_folder, img_name)\n",
    "        img = cv2.imread(img_path, 0)\n",
    "        if img is not None:\n",
    "            image = Image.fromarray(img)\n",
    "            image = transform(image)\n",
    "            test_images.append(image)\n",
    "            label = int(label_lines[idx].strip())\n",
    "            test_labels.append(label)\n",
    "\n",
    "train_images = torch.stack([transforms.ToTensor()(img) for img in train_images])  # Convert to tensor here\n",
    "test_images = torch.stack([transforms.ToTensor()(img) for img in test_images])  # Convert to tensor here\n",
    "train_labels = torch.tensor(train_labels, dtype=torch.long)\n",
    "test_labels = torch.tensor(test_labels, dtype=torch.long)\n"
   ]
  },
  {
   "cell_type": "code",
   "execution_count": 3,
   "id": "47408a63",
   "metadata": {},
   "outputs": [],
   "source": [
    "train_loader = DataLoader(TensorDataset(train_images, train_labels), batch_size=1, shuffle=False)\n",
    "test_loader = DataLoader(TensorDataset(test_images, test_labels), batch_size=1, shuffle=False)"
   ]
  },
  {
   "cell_type": "markdown",
   "id": "aca28891",
   "metadata": {},
   "source": [
    "### 3. Train the Model"
   ]
  },
  {
   "cell_type": "code",
   "execution_count": 4,
   "id": "83586ffd",
   "metadata": {},
   "outputs": [],
   "source": [
    "def customLoss(outputs, labels, j=0.1):\n",
    "    batch_size = outputs.size(0)\n",
    "\n",
    "    # Correct class distances\n",
    "    pos_dists = outputs[torch.arange(batch_size), labels]  # Shape: [B]\n",
    "\n",
    "    # Mask out correct class\n",
    "    mask = torch.ones_like(outputs, dtype=torch.bool)\n",
    "    mask[torch.arange(batch_size), labels] = False\n",
    "    neg_dists = outputs[mask].view(batch_size, -1)  # Shape: [B, C-1]\n",
    "\n",
    "    # Stable discriminative log-sum-exp term\n",
    "    # log(e^{-j} + sum(e^{-d_i})) = logsumexp([-j, -d1, -d2, ..., -d9])\n",
    "    margin_tensor = torch.full((batch_size, 1), -j, device=outputs.device)\n",
    "    all_terms = torch.cat([margin_tensor, -neg_dists], dim=1)\n",
    "    log_term = torch.logsumexp(all_terms, dim=1)\n",
    "\n",
    "    # Final loss (lower distance is better)\n",
    "    loss = (-pos_dists + log_term).mean()\n",
    "    return loss"
   ]
  },
  {
   "cell_type": "code",
   "execution_count": null,
   "id": "691e3250",
   "metadata": {},
   "outputs": [
    {
     "name": "stderr",
     "output_type": "stream",
     "text": [
      "                                                                  \r"
     ]
    },
    {
     "name": "stdout",
     "output_type": "stream",
     "text": [
      "Epoch [1/20], Training Accuracy: 9.75%, Testing Accuracy: 9.74%, \n"
     ]
    },
    {
     "name": "stderr",
     "output_type": "stream",
     "text": [
      "                                                                  \r"
     ]
    },
    {
     "name": "stdout",
     "output_type": "stream",
     "text": [
      "Epoch [2/20], Training Accuracy: 39.89%, Testing Accuracy: 71.09%, \n"
     ]
    },
    {
     "name": "stderr",
     "output_type": "stream",
     "text": [
      "                                                                  \r"
     ]
    },
    {
     "name": "stdout",
     "output_type": "stream",
     "text": [
      "Epoch [3/20], Training Accuracy: 78.52%, Testing Accuracy: 78.68%, \n"
     ]
    },
    {
     "name": "stderr",
     "output_type": "stream",
     "text": [
      "                                                                  \r"
     ]
    },
    {
     "name": "stdout",
     "output_type": "stream",
     "text": [
      "Epoch [4/20], Training Accuracy: 85.26%, Testing Accuracy: 85.67%, \n"
     ]
    },
    {
     "name": "stderr",
     "output_type": "stream",
     "text": [
      "                                                                  \r"
     ]
    },
    {
     "name": "stdout",
     "output_type": "stream",
     "text": [
      "Epoch [5/20], Training Accuracy: 90.03%, Testing Accuracy: 90.58%, \n"
     ]
    },
    {
     "name": "stderr",
     "output_type": "stream",
     "text": [
      "                                                                  \r"
     ]
    },
    {
     "name": "stdout",
     "output_type": "stream",
     "text": [
      "Epoch [6/20], Training Accuracy: 92.29%, Testing Accuracy: 92.91%, \n"
     ]
    },
    {
     "name": "stderr",
     "output_type": "stream",
     "text": [
      "                                                                  \r"
     ]
    },
    {
     "name": "stdout",
     "output_type": "stream",
     "text": [
      "Epoch [7/20], Training Accuracy: 93.26%, Testing Accuracy: 93.72%, \n"
     ]
    },
    {
     "name": "stderr",
     "output_type": "stream",
     "text": [
      "                                                                  \r"
     ]
    },
    {
     "name": "stdout",
     "output_type": "stream",
     "text": [
      "Epoch [8/20], Training Accuracy: 93.81%, Testing Accuracy: 94.41%, \n"
     ]
    },
    {
     "name": "stderr",
     "output_type": "stream",
     "text": [
      "                                                                  \r"
     ]
    },
    {
     "name": "stdout",
     "output_type": "stream",
     "text": [
      "Epoch [9/20], Training Accuracy: 94.12%, Testing Accuracy: 94.73%, \n"
     ]
    },
    {
     "name": "stderr",
     "output_type": "stream",
     "text": [
      "                                                                   \r"
     ]
    },
    {
     "name": "stdout",
     "output_type": "stream",
     "text": [
      "Epoch [10/20], Training Accuracy: 94.44%, Testing Accuracy: 94.99%, \n"
     ]
    },
    {
     "name": "stderr",
     "output_type": "stream",
     "text": [
      "                                                                   \r"
     ]
    },
    {
     "name": "stdout",
     "output_type": "stream",
     "text": [
      "Epoch [11/20], Training Accuracy: 94.73%, Testing Accuracy: 95.22%, \n"
     ]
    },
    {
     "name": "stderr",
     "output_type": "stream",
     "text": [
      "                                                                   \r"
     ]
    },
    {
     "name": "stdout",
     "output_type": "stream",
     "text": [
      "Epoch [12/20], Training Accuracy: 94.93%, Testing Accuracy: 95.54%, \n"
     ]
    },
    {
     "name": "stderr",
     "output_type": "stream",
     "text": [
      "                                                                   \r"
     ]
    },
    {
     "name": "stdout",
     "output_type": "stream",
     "text": [
      "Epoch [13/20], Training Accuracy: 95.14%, Testing Accuracy: 95.68%, \n"
     ]
    },
    {
     "name": "stderr",
     "output_type": "stream",
     "text": [
      "                                                                   \r"
     ]
    },
    {
     "name": "stdout",
     "output_type": "stream",
     "text": [
      "Epoch [14/20], Training Accuracy: 95.32%, Testing Accuracy: 95.81%, \n"
     ]
    },
    {
     "name": "stderr",
     "output_type": "stream",
     "text": [
      "                                                                   \r"
     ]
    },
    {
     "name": "stdout",
     "output_type": "stream",
     "text": [
      "Epoch [15/20], Training Accuracy: 95.52%, Testing Accuracy: 95.93%, \n"
     ]
    },
    {
     "name": "stderr",
     "output_type": "stream",
     "text": [
      "                                                                   \r"
     ]
    },
    {
     "name": "stdout",
     "output_type": "stream",
     "text": [
      "Epoch [16/20], Training Accuracy: 95.64%, Testing Accuracy: 96.01%, \n"
     ]
    },
    {
     "name": "stderr",
     "output_type": "stream",
     "text": [
      "                                                                   \r"
     ]
    },
    {
     "name": "stdout",
     "output_type": "stream",
     "text": [
      "Epoch [17/20], Training Accuracy: 95.78%, Testing Accuracy: 96.06%, \n"
     ]
    },
    {
     "name": "stderr",
     "output_type": "stream",
     "text": [
      "                                                                   \r"
     ]
    },
    {
     "name": "stdout",
     "output_type": "stream",
     "text": [
      "Epoch [18/20], Training Accuracy: 95.89%, Testing Accuracy: 96.13%, \n"
     ]
    },
    {
     "name": "stderr",
     "output_type": "stream",
     "text": [
      "                                                                   \r"
     ]
    },
    {
     "name": "stdout",
     "output_type": "stream",
     "text": [
      "Epoch [19/20], Training Accuracy: 95.97%, Testing Accuracy: 96.24%, \n"
     ]
    },
    {
     "name": "stderr",
     "output_type": "stream",
     "text": [
      "                                                                   \r"
     ]
    },
    {
     "name": "stdout",
     "output_type": "stream",
     "text": [
      "Epoch [20/20], Training Accuracy: 96.03%, Testing Accuracy: 96.27%, \n"
     ]
    }
   ],
   "source": [
    "from tqdm import tqdm\n",
    "\n",
    "# Define relevant variables\n",
    "num_classes = 10\n",
    "learning_rate = 0.001\n",
    "num_epochs = 20\n",
    "\n",
    "device = torch.device('cuda' if torch.cuda.is_available() else 'cpu')\n",
    "model = LeNet5(num_classes=num_classes).to(device)\n",
    "optimizer = torch.optim.SGD(model.parameters(), lr=learning_rate)\n",
    "\n",
    "total_step = len(train_loader)\n",
    "\n",
    "# Initialize lists to store accuracy and error rates for plotting\n",
    "train_accuracy_list = []\n",
    "test_accuracy_list = []\n",
    "train_loss_list = []\n",
    "test_loss_list = []\n",
    "\n",
    "for epoch in range(num_epochs):\n",
    "    model.train()\n",
    "    train_correct = 0\n",
    "    train_total = 0\n",
    "    train_loss = 0.0\n",
    "    for i, (images, labels) in enumerate(tqdm(train_loader, desc=f\"Epoch {epoch+1}/{num_epochs}\", leave=False)):\n",
    "        images = images.to(device)\n",
    "        labels = labels.to(device)\n",
    "\n",
    "        # Forward pass\n",
    "        outputs = model(images)\n",
    "        loss = customLoss(outputs, labels)\n",
    "        train_loss_list.append(loss.item())\n",
    "\n",
    "        # Backward and optimize\n",
    "        optimizer.zero_grad()\n",
    "        loss.backward()\n",
    "        optimizer.step()\n",
    "\n",
    "        # Tracking accuracy\n",
    "        _, predicted = torch.max(outputs.data, 1)\n",
    "        train_total += labels.size(0)\n",
    "        train_correct += (predicted == labels).sum().item()\n",
    "\n",
    "    train_accuracy = 100 * train_correct / train_total\n",
    "\n",
    "\n",
    "    # After training the epoch, evaluate on the test set\n",
    "    model.eval()  # Set the model to evaluation mode\n",
    "    test_correct = 0\n",
    "    test_total = 0\n",
    "    test_loss = 0\n",
    "\n",
    "    with torch.no_grad():  # No gradient tracking during evaluation\n",
    "        for images, labels in tqdm(test_loader, desc=\"Evaluating\", leave=False):\n",
    "            images, labels = images.to(device), labels.to(device)\n",
    "\n",
    "            # Forward pass\n",
    "            outputs = model(images)\n",
    "\n",
    "            # Compute the loss\n",
    "            loss = customLoss(outputs, labels)\n",
    "            test_loss_list.append(loss.item())\n",
    "\n",
    "            # Compute the accuracy\n",
    "            _, predicted = torch.max(outputs.data, 1)\n",
    "            test_total += labels.size(0)\n",
    "            test_correct += (predicted == labels).sum().item()\n",
    "\n",
    "    # Testing accuracy and error rate for the epoch\n",
    "    test_accuracy = 100 * test_correct / test_total\n",
    "\n",
    "    # Print the results for this epoch\n",
    "    print(f'Epoch [{epoch+1}/{num_epochs}], '\n",
    "          f'Training Accuracy: {train_accuracy:.2f}%, '\n",
    "          f'Testing Accuracy: {test_accuracy:.2f}%')\n",
    "\n",
    "\n",
    "    # Store values for plotting later\n",
    "    train_accuracy_list.append(train_accuracy)\n",
    "    test_accuracy_list.append(test_accuracy)\n",
    "    train_loss_list.append(train_loss)\n",
    "    test_loss_list.append(test_loss)\n"
   ]
  },
  {
   "cell_type": "code",
   "execution_count": 11,
   "id": "8770fd53",
   "metadata": {},
   "outputs": [
    {
     "name": "stdout",
     "output_type": "stream",
     "text": [
      "Test Accuracy: 96.27%\n"
     ]
    }
   ],
   "source": [
    "model.eval()  # Set the model to evaluation mode\n",
    "correct = 0\n",
    "total = 0\n",
    "\n",
    "with torch.no_grad():  # Disable gradient computation for efficiency\n",
    "    for images, labels in test_loader:\n",
    "        images = images.to(device)\n",
    "        labels = labels.to(device)\n",
    "\n",
    "        outputs = model(images)\n",
    "        _, predicted = torch.max(outputs.data, 1)\n",
    "\n",
    "        total += labels.size(0)\n",
    "        correct += (predicted == labels).sum().item()\n",
    "\n",
    "accuracy = 100 * correct / total\n",
    "print(f'Test Accuracy: {accuracy:.2f}%')"
   ]
  },
  {
   "cell_type": "markdown",
   "id": "4bedd1b5",
   "metadata": {},
   "source": [
    "### 4. Evaluate the Results"
   ]
  },
  {
   "cell_type": "code",
   "execution_count": 6,
   "id": "ee656463",
   "metadata": {},
   "outputs": [
    {
     "data": {
      "text/plain": [
       "<matplotlib.legend.Legend at 0x191e617b610>"
      ]
     },
     "execution_count": 6,
     "metadata": {},
     "output_type": "execute_result"
    },
    {
     "data": {
      "image/png": "[encoded data removed]",
      "text/plain": [
       "<Figure size 640x480 with 1 Axes>"
      ]
     },
     "metadata": {},
     "output_type": "display_data"
    }
   ],
   "source": [
    "import matplotlib.pyplot as plt\n",
    "\n",
    "epochs = list(range(1, num_epochs + 1))\n",
    "\n",
    "plt.plot(epochs, [1 - acc for acc in train_accuracy_list], label='Training Error', marker='o', color = \"blue\")\n",
    "plt.plot(epochs, [1 - acc for acc in test_accuracy_list], label='Testing Error', marker='o', color = \"orange\")\n",
    "plt.title(\"Training and Testing error vs. Epochs\")\n",
    "plt.xlabel(\"Epochs\")\n",
    "plt.ylabel(\"Error rate\")\n",
    "plt.xlim(1,num_epochs)\n",
    "plt.grid()\n",
    "plt.legend()"
   ]
  },
  {
   "cell_type": "code",
   "execution_count": 7,
   "id": "08e93c1f",
   "metadata": {},
   "outputs": [
    {
     "name": "stdout",
     "output_type": "stream",
     "text": [
      "(10000,) (10000,)\n"
     ]
    },
    {
     "data": {
      "text/plain": [
       "<sklearn.metrics._plot.confusion_matrix.ConfusionMatrixDisplay at 0x191ecd4f010>"
      ]
     },
     "execution_count": 7,
     "metadata": {},
     "output_type": "execute_result"
    },
    {
     "data": {
      "image/png": "[encoded data removed]",
      "text/plain": [
       "<Figure size 640x480 with 2 Axes>"
      ]
     },
     "metadata": {},
     "output_type": "display_data"
    }
   ],
   "source": [
    "from sklearn.metrics import confusion_matrix, ConfusionMatrixDisplay\n",
    "\n",
    "y_preds = []\n",
    "y_labels = []\n",
    "model.eval()\n",
    "with torch.no_grad():\n",
    "    for data, target in test_loader:\n",
    "        data, target = data.to(device), target.to(device)        \n",
    "        y_pred = model(data)        \n",
    "        _, predicted_labels = torch.max(y_pred, dim=1)\n",
    "        y_preds.append(predicted_labels.cpu().numpy())  \n",
    "        y_labels.append(target.cpu().numpy()) \n",
    "y_preds = np.concatenate(y_preds)\n",
    "y_labels = np.concatenate(y_labels)\n",
    "print(y_preds.shape, y_labels.shape)\n",
    "cm = confusion_matrix(y_labels, y_preds)\n",
    "ConfusionMatrixDisplay(confusion_matrix=cm).plot()"
   ]
  },
  {
   "cell_type": "code",
   "execution_count": 8,
   "id": "725ffdc5",
   "metadata": {},
   "outputs": [
    {
     "name": "stdout",
     "output_type": "stream",
     "text": [
      "Using device: cpu\n"
     ]
    },
    {
     "data": {
      "image/png": "[encoded data removed]",
      "text/plain": [
       "<Figure size 2000x800 with 10 Axes>"
      ]
     },
     "metadata": {},
     "output_type": "display_data"
    }
   ],
   "source": [
    "def find_most_confusing_examples(model, test_loader, device):\n",
    "    model.eval()\n",
    "    most_confusing = {\n",
    "        digit: {\n",
    "            'min_confidence': float('inf'),\n",
    "            'image': None,\n",
    "            'true_label': digit,\n",
    "            'predicted_label': None,\n",
    "            'rbf_values': None\n",
    "        } for digit in range(10)\n",
    "    }\n",
    "\n",
    "    with torch.no_grad():\n",
    "        for images, labels in test_loader:\n",
    "            images = images.to(device)\n",
    "            labels = labels.to(device)\n",
    "            outputs = model(images)\n",
    "            predicted = torch.argmax(outputs, dim=1)  # or torch.max, depending on RBF layer design\n",
    "\n",
    "            for i in range(len(labels)):\n",
    "                true_label = labels[i].item()\n",
    "                predicted_label = predicted[i].item()\n",
    "\n",
    "                if true_label != predicted_label:\n",
    "                    rbf_values = outputs[i]\n",
    "                    confidence = rbf_values[predicted_label].item()\n",
    "\n",
    "                    # Store the most confidently wrong prediction *for the true label*\n",
    "                    if confidence < most_confusing[true_label]['min_confidence']:\n",
    "                        most_confusing[true_label] = {\n",
    "                            'min_confidence': confidence,\n",
    "                            'image': images[i].cpu(),\n",
    "                            'true_label': true_label,\n",
    "                            'predicted_label': predicted_label,\n",
    "                            'rbf_values': rbf_values.cpu()\n",
    "                        }\n",
    "\n",
    "    return most_confusing\n",
    "\n",
    "def visualize_confusing_examples(most_confusing):\n",
    "    fig, axs = plt.subplots(2, 5, figsize=(20, 8))\n",
    "    fig.suptitle('Most Confusing Examples for Each True Digit', fontsize=16)\n",
    "    for digit in range(10):\n",
    "        row = digit // 5\n",
    "        col = digit % 5\n",
    "        conf_example = most_confusing[digit]\n",
    "        if conf_example['image'] is not None:\n",
    "            axs[row, col].imshow(conf_example['image'].squeeze(), cmap='gray')\n",
    "            axs[row, col].set_title(\n",
    "                f'True: {digit}, Predicted: {conf_example[\"predicted_label\"]}\\n' +\n",
    "                f'Confidence: {conf_example[\"min_confidence\"]:.4f}',\n",
    "                fontsize=10\n",
    "            )\n",
    "        else:\n",
    "            axs[row, col].set_title(f'No Misclassifications\\nTrue: {digit}', fontsize=10)\n",
    "        axs[row, col].axis('off')\n",
    "    plt.tight_layout()\n",
    "    plt.show()\n",
    "\n",
    "device = torch.device('cuda' if torch.cuda.is_available() else 'cpu')\n",
    "print(f\"Using device: {device}\")\n",
    "\n",
    "most_confusing_examples = find_most_confusing_examples(model, test_loader, device)\n",
    "visualize_confusing_examples(most_confusing_examples)"
   ]
  },
  {
   "cell_type": "code",
   "execution_count": 9,
   "id": "db61d171",
   "metadata": {},
   "outputs": [
    {
     "name": "stdout",
     "output_type": "stream",
     "text": [
      "Train Accuracy at epoch 20 :  96.02666666666667\n",
      "Test Accuracy at epoch 20 :  96.27\n"
     ]
    }
   ],
   "source": [
    "print('Train Accuracy at epoch', num_epochs, ': ',train_accuracy_list[num_epochs-1])\n",
    "print('Test Accuracy at epoch', num_epochs, ': ',test_accuracy_list[num_epochs-1])"
   ]
  },
  {
   "cell_type": "markdown",
   "id": "4ea8cfd4",
   "metadata": {},
   "source": [
    "### 5. Save the Model"
   ]
  },
  {
   "cell_type": "code",
   "execution_count": 10,
   "id": "86e249de",
   "metadata": {},
   "outputs": [],
   "source": [
    "torch.save(model, 'LeNet1-v3.pth')"
   ]
  }
 ],
 "metadata": {
  "kernelspec": {
   "display_name": "LeNet5-env",
   "language": "python",
   "name": "python3"
  },
  "language_info": {
   "codemirror_mode": {
    "name": "ipython",
    "version": 3
   },
   "file_extension": ".py",
   "mimetype": "text/x-python",
   "name": "python",
   "nbconvert_exporter": "python",
   "pygments_lexer": "ipython3",
   "version": "3.10.12"
  }
 },
 "nbformat": 4,
 "nbformat_minor": 5
}
